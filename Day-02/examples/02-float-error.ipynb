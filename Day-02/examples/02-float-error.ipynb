{
 "cells": [
  {
   "cell_type": "code",
   "execution_count": null,
   "id": "14afd1d7",
   "metadata": {},
   "outputs": [],
   "source": [
    "def truncate(n):\n",
    "    return int(n * 1000) / 1000"
   ]
  },
  {
   "cell_type": "code",
   "execution_count": null,
   "id": "e467c0b7",
   "metadata": {},
   "outputs": [],
   "source": [
    "actual_value, truncated_value = 100, 100\n",
    "print(actual_value)\n",
    "print(truncated_value)"
   ]
  },
  {
   "cell_type": "code",
   "execution_count": null,
   "id": "49d78919",
   "metadata": {},
   "outputs": [],
   "source": [
    "import random\n",
    "random.seed(100)\n",
    "\n",
    "\n"
   ]
  },
  {
   "cell_type": "code",
   "execution_count": null,
   "id": "d7e0689f",
   "metadata": {},
   "outputs": [],
   "source": [
    "for _ in range(1_000_000):\n",
    "    delta = random.uniform(-0.05, 0.05)\n",
    "    actual_value = actual_value + delta\n",
    "    print(actual_value)\n",
    "    truncated_value = truncate(truncated_value + delta)\n",
    "    print(truncated_value)"
   ]
  }
 ],
 "metadata": {
  "kernelspec": {
   "display_name": "Python 3",
   "language": "python",
   "name": "python3"
  },
  "language_info": {
   "codemirror_mode": {
    "name": "ipython",
    "version": 3
   },
   "file_extension": ".py",
   "mimetype": "text/x-python",
   "name": "python",
   "nbconvert_exporter": "python",
   "pygments_lexer": "ipython3",
   "version": "3.9.23"
  }
 },
 "nbformat": 4,
 "nbformat_minor": 5
}
